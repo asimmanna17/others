{
 "cells": [
  {
   "cell_type": "code",
   "execution_count": 3,
   "metadata": {},
   "outputs": [
    {
     "data": {
      "text/plain": [
       "[[x1 == r79*r80/r83, x2 == r79*r81/r83, x3 == r79*r82/r83, x4 == r79, y1 == r80, y2 == r81, y3 == r82, y4 == r83], [x1 == -((r84*r86 + r85*r87)*r88 - (r85*r86 + r84*r87)*sqrt(r86^2 - r87^2 + r88^2))/(r86^2 - r87^2), x2 == -((r85*r86 + r84*r87)*r88 - (r84*r86 + r85*r87)*sqrt(r86^2 - r87^2 + r88^2))/(r86^2 - r87^2), x3 == r84, x4 == r85, y1 == r86, y2 == r87, y3 == r88, y4 == sqrt(r86^2 - r87^2 + r88^2)], [x1 == -((r89*r91 + r90*r92)*r93 + (r90*r91 + r89*r92)*sqrt(r91^2 - r92^2 + r93^2))/(r91^2 - r92^2), x2 == -((r90*r91 + r89*r92)*r93 + (r89*r91 + r90*r92)*sqrt(r91^2 - r92^2 + r93^2))/(r91^2 - r92^2), x3 == r89, x4 == r90, y1 == r91, y2 == r92, y3 == r93, y4 == -sqrt(r91^2 - r92^2 + r93^2)], [x1 == r94, x2 == r95, x3 == r96, x4 == r97, y1 == 0, y2 == 0, y3 == 0, y4 == 0], [x1 == -r98*r99/r101, x2 == -r100*r98/r101, x3 == -r98, x4 == r98, y1 == r99, y2 == r100, y3 == r101, y4 == -r101], [x1 == r102, x2 == r102, x3 == -r103, x4 == r103, y1 == r104, y2 == r104, y3 == r105, y4 == -r105], [x1 == r106*r107/r109, x2 == r106*r108/r109, x3 == r106, x4 == r106, y1 == r107, y2 == r108, y3 == r109, y4 == r109], [x1 == r110, x2 == -r110, x3 == r111, x4 == r111, y1 == r112, y2 == -r112, y3 == r113, y4 == r113], [x1 == r114*r115/r117, x2 == r114*r116/r117, x3 == r114, x4 == 0, y1 == r115, y2 == r116, y3 == r117, y4 == 0], [x1 == (r118*r120 + r119*r121)/sqrt(-r120^2 + r121^2), x2 == (r119*r120 + r118*r121)/sqrt(-r120^2 + r121^2), x3 == r118, x4 == r119, y1 == r120, y2 == r121, y3 == sqrt(-r120^2 + r121^2), y4 == 0], [x1 == -(r122*r124 + r123*r125)/sqrt(-r124^2 + r125^2), x2 == -(r123*r124 + r122*r125)/sqrt(-r124^2 + r125^2), x3 == r122, x4 == r123, y1 == r124, y2 == r125, y3 == -sqrt(-r124^2 + r125^2), y4 == 0], [x1 == r126, x2 == (sqrt(r128^2 + r129^2)*r127*r128 - (r126*r128 + r127*r129)*r128*r129/sqrt(r128^2 + r129^2))/r128^2, x3 == r127, x4 == (r126*r128 + r127*r129)/sqrt(r128^2 + r129^2), y1 == r128, y2 == 0, y3 == r129, y4 == sqrt(r128^2 + r129^2)], [x1 == r130, x2 == -(sqrt(r132^2 + r133^2)*r131*r132 - (r130*r132 + r131*r133)*r132*r133/sqrt(r132^2 + r133^2))/r132^2, x3 == r131, x4 == -(r130*r132 + r131*r133)/sqrt(r132^2 + r133^2), y1 == r132, y2 == 0, y3 == r133, y4 == -sqrt(r132^2 + r133^2)], [x1 == r134, x2 == r134, x3 == -r135, x4 == r135, y1 == r136, y2 == r136, y3 == 0, y4 == 0], [x1 == r137, x2 == -r137, x3 == r138, x4 == r138, y1 == r139, y2 == -r139, y3 == 0, y4 == 0], [x1 == r140*r141/r142, x2 == r140, x3 == 0, x4 == 0, y1 == r141, y2 == r142, y3 == 0, y4 == 0], [x1 == -r143*r145/r144, x2 == sqrt(r144^2 + r145^2)*r143/r144, x3 == r143, x4 == 0, y1 == r144, y2 == 0, y3 == r145, y4 == sqrt(r144^2 + r145^2)], [x1 == r147*r148/sqrt(r148^2), x2 == r146*sqrt(r148^2)/r148, x3 == r146, x4 == r147, y1 == r148, y2 == 0, y3 == 0, y4 == sqrt(r148^2)], [x1 == -r149*r151/r150, x2 == -sqrt(r150^2 + r151^2)*r149/r150, x3 == r149, x4 == 0, y1 == r150, y2 == 0, y3 == r151, y4 == -sqrt(r150^2 + r151^2)], [x1 == -r153*r154/sqrt(r154^2), x2 == -r152*sqrt(r154^2)/r154, x3 == r152, x4 == r153, y1 == r154, y2 == 0, y3 == 0, y4 == -sqrt(r154^2)], [x1 == r155, x2 == 0, x3 == 0, x4 == 0, y1 == r156, y2 == 0, y3 == 0, y4 == 0]]"
      ]
     },
     "execution_count": 3,
     "metadata": {},
     "output_type": "execute_result"
    }
   ],
   "source": [
    "var('x1 x2 x3 x4 y1 y2 y3 y4')\n",
    "eq1 = x1*y2-x2*y1+x3*y4-x4*y3 == 0\n",
    "eq2 = x1*y3-x3*y1+x2*y4-x4*y2 == 0\n",
    "eq3 = x1*y4-x4*y1+x2*y3-x3*y2 == 0\n",
    "solve([eq1,eq2,eq3],x1,x2,x3,x4,y1,y2,y3,y4)"
   ]
  },
  {
   "cell_type": "code",
   "execution_count": null,
   "metadata": {},
   "outputs": [],
   "source": []
  },
  {
   "cell_type": "code",
   "execution_count": null,
   "metadata": {},
   "outputs": [],
   "source": []
  }
 ],
 "metadata": {
  "kernelspec": {
   "display_name": "SageMath 9.0",
   "language": "sage",
   "name": "sagemath"
  },
  "language_info": {
   "codemirror_mode": {
    "name": "ipython",
    "version": 3
   },
   "file_extension": ".py",
   "mimetype": "text/x-python",
   "name": "python",
   "nbconvert_exporter": "python",
   "pygments_lexer": "ipython3",
   "version": "3.8.5"
  }
 },
 "nbformat": 4,
 "nbformat_minor": 4
}
